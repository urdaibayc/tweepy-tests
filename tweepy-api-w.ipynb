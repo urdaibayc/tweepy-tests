{
 "cells": [
  {
   "cell_type": "code",
   "execution_count": 1,
   "metadata": {},
   "outputs": [],
   "source": [
    "import tweepy"
   ]
  },
  {
   "cell_type": "markdown",
   "metadata": {},
   "source": [
    "# Auth & credentials"
   ]
  },
  {
   "cell_type": "code",
   "execution_count": 2,
   "metadata": {},
   "outputs": [],
   "source": [
    "def get_credentials():\n",
    "    # gets info from text file & returns a variable list\n",
    "    consumer_key = ''\n",
    "    consumer_secret = ''\n",
    "    access_token = ''\n",
    "    access_token_secret = ''\n",
    "\n",
    "    with open(\"credentials.txt\") as fp: \n",
    "        lines = fp.readlines()\n",
    "        consumer_key = str(lines[1].strip())\n",
    "        consumer_secret = str(lines[3].strip())\n",
    "        access_token = str(lines[5].strip())\n",
    "        access_token_secret = str(lines[7].strip())\n",
    "    \n",
    "    return [consumer_key, consumer_secret, access_token, access_token_secret]"
   ]
  },
  {
   "cell_type": "code",
   "execution_count": 3,
   "metadata": {},
   "outputs": [],
   "source": [
    "def autenticate(credentials):\n",
    "    # autenticates credentias to twtter & returns a tweepy auth object\n",
    "    auth = tweepy.OAuthHandler(credentials[1], credentials[1])\n",
    "    auth.set_access_token(credentials[2], credentials[3])\n",
    "    return auth"
   ]
  },
  {
   "cell_type": "code",
   "execution_count": 4,
   "metadata": {},
   "outputs": [],
   "source": [
    "credentials = get_credentials()"
   ]
  },
  {
   "cell_type": "code",
   "execution_count": 5,
   "metadata": {},
   "outputs": [],
   "source": [
    "auth = autenticate(credentials)"
   ]
  },
  {
   "cell_type": "markdown",
   "metadata": {},
   "source": [
    "# Get tweet options\n",
    "\n",
    "### ojo con el parser"
   ]
  },
  {
   "cell_type": "code",
   "execution_count": 8,
   "metadata": {},
   "outputs": [],
   "source": [
    "api = tweepy.API(auth, parser=tweepy.parsers.JSONParser())"
   ]
  },
  {
   "cell_type": "code",
   "execution_count": 9,
   "metadata": {},
   "outputs": [
    {
     "ename": "TweepError",
     "evalue": "[{'code': 32, 'message': 'Could not authenticate you.'}]",
     "output_type": "error",
     "traceback": [
      "\u001b[0;31m------------------------\u001b[0m",
      "\u001b[0;31mTweepError\u001b[0mTraceback (most recent call last)",
      "\u001b[0;32m<ipython-input-9-8a533eefef3c>\u001b[0m in \u001b[0;36m<module>\u001b[0;34m\u001b[0m\n\u001b[0;32m----> 1\u001b[0;31m \u001b[0mpublic_tweets\u001b[0m \u001b[0;34m=\u001b[0m \u001b[0mapi\u001b[0m\u001b[0;34m.\u001b[0m\u001b[0mhome_timeline\u001b[0m\u001b[0;34m(\u001b[0m\u001b[0;34m)\u001b[0m\u001b[0;34m\u001b[0m\u001b[0;34m\u001b[0m\u001b[0m\n\u001b[0m",
      "\u001b[0;32m~/.local/lib/python3.8/site-packages/tweepy/binder.py\u001b[0m in \u001b[0;36m_call\u001b[0;34m(*args, **kwargs)\u001b[0m\n\u001b[1;32m    250\u001b[0m                 \u001b[0;32mreturn\u001b[0m \u001b[0mmethod\u001b[0m\u001b[0;34m\u001b[0m\u001b[0;34m\u001b[0m\u001b[0m\n\u001b[1;32m    251\u001b[0m             \u001b[0;32melse\u001b[0m\u001b[0;34m:\u001b[0m\u001b[0;34m\u001b[0m\u001b[0;34m\u001b[0m\u001b[0m\n\u001b[0;32m--> 252\u001b[0;31m                 \u001b[0;32mreturn\u001b[0m \u001b[0mmethod\u001b[0m\u001b[0;34m.\u001b[0m\u001b[0mexecute\u001b[0m\u001b[0;34m(\u001b[0m\u001b[0;34m)\u001b[0m\u001b[0;34m\u001b[0m\u001b[0;34m\u001b[0m\u001b[0m\n\u001b[0m\u001b[1;32m    253\u001b[0m         \u001b[0;32mfinally\u001b[0m\u001b[0;34m:\u001b[0m\u001b[0;34m\u001b[0m\u001b[0;34m\u001b[0m\u001b[0m\n\u001b[1;32m    254\u001b[0m             \u001b[0mmethod\u001b[0m\u001b[0;34m.\u001b[0m\u001b[0msession\u001b[0m\u001b[0;34m.\u001b[0m\u001b[0mclose\u001b[0m\u001b[0;34m(\u001b[0m\u001b[0;34m)\u001b[0m\u001b[0;34m\u001b[0m\u001b[0;34m\u001b[0m\u001b[0m\n",
      "\u001b[0;32m~/.local/lib/python3.8/site-packages/tweepy/binder.py\u001b[0m in \u001b[0;36mexecute\u001b[0;34m(self)\u001b[0m\n\u001b[1;32m    232\u001b[0m                     \u001b[0;32mraise\u001b[0m \u001b[0mRateLimitError\u001b[0m\u001b[0;34m(\u001b[0m\u001b[0merror_msg\u001b[0m\u001b[0;34m,\u001b[0m \u001b[0mresp\u001b[0m\u001b[0;34m)\u001b[0m\u001b[0;34m\u001b[0m\u001b[0;34m\u001b[0m\u001b[0m\n\u001b[1;32m    233\u001b[0m                 \u001b[0;32melse\u001b[0m\u001b[0;34m:\u001b[0m\u001b[0;34m\u001b[0m\u001b[0;34m\u001b[0m\u001b[0m\n\u001b[0;32m--> 234\u001b[0;31m                     \u001b[0;32mraise\u001b[0m \u001b[0mTweepError\u001b[0m\u001b[0;34m(\u001b[0m\u001b[0merror_msg\u001b[0m\u001b[0;34m,\u001b[0m \u001b[0mresp\u001b[0m\u001b[0;34m,\u001b[0m \u001b[0mapi_code\u001b[0m\u001b[0;34m=\u001b[0m\u001b[0mapi_error_code\u001b[0m\u001b[0;34m)\u001b[0m\u001b[0;34m\u001b[0m\u001b[0;34m\u001b[0m\u001b[0m\n\u001b[0m\u001b[1;32m    235\u001b[0m \u001b[0;34m\u001b[0m\u001b[0m\n\u001b[1;32m    236\u001b[0m             \u001b[0;31m# Parse the response payload\u001b[0m\u001b[0;34m\u001b[0m\u001b[0;34m\u001b[0m\u001b[0;34m\u001b[0m\u001b[0m\n",
      "\u001b[0;31mTweepError\u001b[0m: [{'code': 32, 'message': 'Could not authenticate you.'}]"
     ]
    }
   ],
   "source": [
    "public_tweets = api.home_timeline()"
   ]
  },
  {
   "cell_type": "code",
   "execution_count": null,
   "metadata": {},
   "outputs": [],
   "source": [
    "tweet_options = list(public_tweets[0].keys())"
   ]
  },
  {
   "cell_type": "code",
   "execution_count": null,
   "metadata": {},
   "outputs": [],
   "source": [
    "tweet_options"
   ]
  },
  {
   "cell_type": "code",
   "execution_count": null,
   "metadata": {},
   "outputs": [],
   "source": []
  },
  {
   "cell_type": "markdown",
   "metadata": {},
   "source": [
    "# Playing whith tweets"
   ]
  },
  {
   "cell_type": "code",
   "execution_count": null,
   "metadata": {},
   "outputs": [],
   "source": [
    "api = tweepy.API(auth)"
   ]
  },
  {
   "cell_type": "code",
   "execution_count": null,
   "metadata": {},
   "outputs": [],
   "source": [
    "user = api.get_user('orlag1985')\n",
    "\n"
   ]
  },
  {
   "cell_type": "code",
   "execution_count": null,
   "metadata": {},
   "outputs": [],
   "source": [
    "user.id"
   ]
  },
  {
   "cell_type": "code",
   "execution_count": null,
   "metadata": {},
   "outputs": [],
   "source": [
    "print(user.screen_name)\n",
    "print(user.followers_count)\n",
    "for friend in user.friends():\n",
    "   print(friend.screen_name)\n"
   ]
  },
  {
   "cell_type": "code",
   "execution_count": null,
   "metadata": {},
   "outputs": [],
   "source": [
    "l = api.statuses_lookup(1329299780099579904)"
   ]
  },
  {
   "cell_type": "code",
   "execution_count": null,
   "metadata": {},
   "outputs": [],
   "source": [
    "l"
   ]
  },
  {
   "cell_type": "markdown",
   "metadata": {},
   "source": [
    "# cursor"
   ]
  },
  {
   "cell_type": "code",
   "execution_count": null,
   "metadata": {},
   "outputs": [],
   "source": [
    "# In this example, the handler is time.sleep(15 * 60),\n",
    "# but you can of course handle it in any way you want.\n",
    "\n",
    "def limit_handled(cursor):\n",
    "    while True:\n",
    "        try:\n",
    "            yield cursor.next()\n",
    "        except tweepy.RateLimitError:\n",
    "            time.sleep(15 * 60)"
   ]
  },
  {
   "cell_type": "code",
   "execution_count": null,
   "metadata": {},
   "outputs": [],
   "source": [
    "for follower in limit_handled(tweepy.Cursor(api.followers).items()):\n",
    "        print(follower.screen_name)"
   ]
  },
  {
   "cell_type": "code",
   "execution_count": null,
   "metadata": {},
   "outputs": [],
   "source": []
  },
  {
   "cell_type": "code",
   "execution_count": null,
   "metadata": {},
   "outputs": [],
   "source": [
    "#api = tweepy.API(auth)\n",
    "t = [ x for x in tweepy.Cursor(api.search, q='tweepy').items(5)]\n",
    "t[0].id"
   ]
  },
  {
   "cell_type": "code",
   "execution_count": null,
   "metadata": {},
   "outputs": [],
   "source": [
    "# Iterate through all of the authenticated user's friends\n",
    "friends = [f for f in tweepy.Cursor(api.friends).items()]\n",
    "    # Process the friend here\n",
    "print(friends[0])"
   ]
  },
  {
   "cell_type": "code",
   "execution_count": null,
   "metadata": {},
   "outputs": [],
   "source": [
    "\n",
    "\n"
   ]
  },
  {
   "cell_type": "markdown",
   "metadata": {},
   "source": [
    "#  Listener"
   ]
  },
  {
   "cell_type": "code",
   "execution_count": 10,
   "metadata": {},
   "outputs": [],
   "source": [
    "import tweepy\n",
    "\n",
    "def get_credentials():\n",
    "    # gets info from text file & returns a variable list\n",
    "    consumer_key = ''\n",
    "    consumer_secret = ''\n",
    "    access_token = ''\n",
    "    access_token_secret = ''\n",
    "\n",
    "    with open(\"credentials.txt\") as fp:\n",
    "        lines = fp.readlines()\n",
    "        consumer_key = str(lines[1].strip())\n",
    "        consumer_secret = str(lines[3].strip())\n",
    "        access_token = str(lines[5].strip())\n",
    "        access_token_secret = str(lines[7].strip())\n",
    "\n",
    "    return [consumer_key, consumer_secret, access_token, access_token_secret]\n",
    "\n",
    "\n",
    "def autenticate(credentials):\n",
    "    \n",
    "    # autenticates credentias to twtter & returns a tweepy auth object\n",
    "    auth = tweepy.OAuthHandler(credentials[0], credentials[1])\n",
    "    auth.set_access_token(credentials[2], credentials[3])\n",
    "    return auth\n",
    "\n",
    "\n",
    "class MyStreamListener(tweepy.StreamListener):\n",
    "    def on_status(self, status):\n",
    "        print(status.text)\n",
    "    def on_error(self, status_code):\n",
    "        if status_code == 420:\n",
    "            #returning False in on_error disconnects the stream\n",
    "            return False\n",
    "        # returning non-False reconnects the stream, with backoff.\n",
    "\n"
   ]
  },
  {
   "cell_type": "code",
   "execution_count": 11,
   "metadata": {},
   "outputs": [],
   "source": [
    "# Getting api credentials\n",
    "credentials = get_credentials()\n",
    "auth = autenticate(credentials)\n",
    "api = tweepy.API(auth)\n"
   ]
  },
  {
   "cell_type": "code",
   "execution_count": 12,
   "metadata": {},
   "outputs": [],
   "source": [
    "# Creating a Stream\n",
    "myStreamListener = MyStreamListener()\n",
    "myStream = tweepy.Stream(auth = api.auth, listener=myStreamListener)\n"
   ]
  },
  {
   "cell_type": "code",
   "execution_count": null,
   "metadata": {},
   "outputs": [],
   "source": [
    "# Starting a Stream\n",
    "my_stream = myStream.filter(track=['Trump'])\n",
    "# myStream.filter(track=['python'], is_async=True)"
   ]
  },
  {
   "cell_type": "code",
   "execution_count": null,
   "metadata": {},
   "outputs": [],
   "source": []
  },
  {
   "cell_type": "code",
   "execution_count": null,
   "metadata": {},
   "outputs": [],
   "source": []
  },
  {
   "cell_type": "code",
   "execution_count": null,
   "metadata": {},
   "outputs": [],
   "source": []
  },
  {
   "cell_type": "markdown",
   "metadata": {},
   "source": [
    "# hadle errors"
   ]
  },
  {
   "cell_type": "code",
   "execution_count": 16,
   "metadata": {},
   "outputs": [],
   "source": [
    "credentials = get_credentials()\n",
    "auth = autenticate(credentials)\n",
    "api = tweepy.API(auth)\n"
   ]
  },
  {
   "cell_type": "code",
   "execution_count": 17,
   "metadata": {},
   "outputs": [],
   "source": [
    "def get_user_by_id(id):\n",
    "    # using get_user with user_id\n",
    "    try:\n",
    "        print(f'Searching for user id: {id}')\n",
    "        user = api.get_user(id)\n",
    "        print(f\"The user id {id} corresponds to the user with the name: {user.name}\")\n",
    "    except tweepy.TweepError as e:\n",
    "            #print(e.reason)\n",
    "            print(e.response.status_code)\n"
   ]
  },
  {
   "cell_type": "code",
   "execution_count": 15,
   "metadata": {},
   "outputs": [
    {
     "name": "stdout",
     "output_type": "stream",
     "text": [
      "Searching for user id: Orlando García\n",
      "404\n"
     ]
    }
   ],
   "source": [
    "get_user_by_id('Orlando García')"
   ]
  },
  {
   "cell_type": "code",
   "execution_count": 18,
   "metadata": {},
   "outputs": [],
   "source": [
    "def get_user_by_id(id):\n",
    "    # using get_user with user_id\n",
    "    try:\n",
    "        print(f'Searching for user id: {id}')\n",
    "        user = api.get_user(id)\n",
    "        print(f\"The user id {id} corresponds to the user with the name: {user.name}\")\n",
    "    except tweepy.TweepError as e:\n",
    "            #print(e.response.status_code)\n",
    "            print(e.reason)\n",
    "            "
   ]
  },
  {
   "cell_type": "code",
   "execution_count": 19,
   "metadata": {},
   "outputs": [
    {
     "name": "stdout",
     "output_type": "stream",
     "text": [
      "Searching for user id: 1629448644\n",
      "The user id 1629448644 corresponds to the user with the name: Orlando García\n"
     ]
    }
   ],
   "source": [
    "get_user_by_id('1629448644')"
   ]
  },
  {
   "cell_type": "code",
   "execution_count": null,
   "metadata": {},
   "outputs": [],
   "source": []
  },
  {
   "cell_type": "code",
   "execution_count": null,
   "metadata": {},
   "outputs": [],
   "source": []
  },
  {
   "cell_type": "code",
   "execution_count": 20,
   "metadata": {},
   "outputs": [],
   "source": [
    "def remove_url(txt):\n",
    "    \"\"\"Replace URLs found in a text string with nothing \n",
    "    (i.e. it will remove the URL from the string).\n",
    "\n",
    "    Parameters\n",
    "    ----------\n",
    "    txt : string\n",
    "        A text string that you want to parse and remove urls.\n",
    "\n",
    "    Returns\n",
    "    -------\n",
    "    The same txt string with url's removed.\n",
    "    \"\"\"\n",
    "\n",
    "    return \" \".join(re.sub(\"([^0-9A-Za-z \\t])|(\\w+:\\/\\/\\S+)\", \"\", txt).split())\n"
   ]
  },
  {
   "cell_type": "code",
   "execution_count": 29,
   "metadata": {},
   "outputs": [],
   "source": [
    "import re\n",
    "search_term = \"#DonaldJTrump\"\n",
    "#\"realDonaldTrump\"\n",
    "#\"#climate+change -filter:retweets\"\n",
    "\n",
    "tweets = tweepy.Cursor(api.search,\n",
    "                   q=search_term,\n",
    "                   lang=\"en\"\n",
    "                   #since='2018-11-01'\n",
    "                      ).items(50)\n",
    "\n",
    "# Remove URLs\n",
    "tweets_no_urls = [remove_url(tweet.text) for tweet in tweets]\n"
   ]
  },
  {
   "cell_type": "code",
   "execution_count": 30,
   "metadata": {},
   "outputs": [
    {
     "data": {
      "text/plain": [
       "['After DonaldJTrumps frivolity people will think back to a time when the word vexatious appeared in the lexicon',\n",
       " 'DonaldJTrump I have thought of a new name for Biden Elmer Fudd Stammering and stuttering over his words and real',\n",
       " 'Same people different fonts DonaldJTrump',\n",
       " 'donaldjtrump has been a joke to me and many of you long ago he was best friends with jeffreyepstien most people',\n",
       " 'Im sorry and more pissed thatn ever is waynecounty actually going to let donaldjtrump and his foggies intimidate',\n",
       " 'The only person who wants to see Ivankas tits more than me is realDonaldTrump DonaldJTrump DonaldTrump',\n",
       " 'Rudys Elite Strike Force Continues To Fail Spectacularly On Behalf Of T via YouTube',\n",
       " 'DonaldJTrump realDonaldTrump Trump when are you gonna worry about American people going homeless hungry and hop',\n",
       " 'Presidentelect Joe Biden has won GA flipping a state which has been reliably Republican for decades The final el',\n",
       " 'realDonaldTrump Hey just want to remind everyone that you are a loser you lost you loser loser loser potus',\n",
       " 'On Nov 20 Hear a Message of Hope from President Russell M Nelson via YouTube 11 am',\n",
       " 'realDonaldTrump justinhart DonaldJTrump omg get over it you lost By more than Hillary I might add you are a',\n",
       " 'No on the left will ever watch foxnews kristenfisher just helped to run of the remaining viewers they had',\n",
       " 'Need we say more about Dominion voting systems DonaldJTrump',\n",
       " 'DonaldJTrump lost GA again',\n",
       " 'On Wed a US judge ordered the Trump admin to stop deporting immigrant children who cross the border alone They',\n",
       " 'Dear petulant child POTUS time to start packing up your roomno McDonalds for you until you are done DonaldJTrump',\n",
       " 'RT SLDavis22219677 DonaldJTrump problemsolvers bluedogdemocrates MitchMcConnell NancyPelosi BidenTransition',\n",
       " 'Dang if all states that DonTheCon DonaldJTrump is trailing in are having voting issues Americans better review',\n",
       " 'RT dulcebombomcito Wisconsin Election results Milwaukee County JoeBiden 755 Donald Trump 228 Dane County JoeBiden 691 Donald Tru',\n",
       " 'DonaldJTrump Mr President why arent you everywhere wanting to know why Beijing Biden doesnt Concede knowing th',\n",
       " 'RT rgoldsmith91 Shady shit going on in Georgia Same shit will happen in other swing states Check all ballots now for fraud DonaldJTru',\n",
       " 'What is wrong with Trump what he is try to do is illegal he needs to go hes trying to steal the election so whos',\n",
       " 'Astounding laxity of Americas Republican Senate reprehensible Allowing this farce to cont should be condemned amp',\n",
       " 'The last days of DonaldJTrump',\n",
       " 'JennaEllisEsq We will NOT backdown we will NOT be intimidated Pres realDonaldTrump will NOT be intimidated',\n",
       " 'RudyGiuliani is so full of crap its pouring out of his skin realDonaldTrump Election2020 JoeBiden',\n",
       " 'realDonaldTrump Do you DonaldJTrump really want to go down the YOUTUBE HOLE',\n",
       " 'RT kartwonz Dead on arrival A cartoon by Rex A JonesTrump TrumpTantrum Elections2020 Trumplooser EveryVoteCounts BlackLivesMatte',\n",
       " 'Thank you Sallyannward DonaldJTrump',\n",
       " 'FINALLYTHE END the fraudulent traitorous finally gonegoneampDonaldJTrump',\n",
       " 'RT kartwonz Dead on arrival A cartoon by Rex A JonesTrump TrumpTantrum Elections2020 Trumplooser EveryVoteCounts BlackLivesMatte',\n",
       " 'This man should be arrested for hate crimes DonaldJTrump',\n",
       " 'charliekirk11 RudyGiuliani RudyGiuliani DonaldJTrump DonaldTrumpIsOverParty RudysHairDye RudyMeltdown',\n",
       " 'TeamTrump RudyGiuliani JennaEllisEsq RudyGiuliani DonaldJTrump DonaldTrumpIsOverParty RudysHairDye',\n",
       " 'Our democracies must be clear open amp most of all trusted otherwise they have failedBringDownTheFraudsters',\n",
       " 'If you have a bad day just watch this and it will make you laughI promise Biden JoeBidenKamalaHarris2020',\n",
       " 'its time to go Dont go away mad just take your lame duke fat ass and get the hell out of the wayDonaldJTrump',\n",
       " 'Watch Rudy Giuliani raise three fingers up Does he think DonaldJTrump is going to pay him for acting as a lawyer',\n",
       " 'RudyGiuliani DonaldJTrump DonaldTrumpIsOverParty RudysHairDye RudyMeltdown RudyIsMelting RudyIsLosingIt',\n",
       " 'DonaldJTrump The House and the Senate cant agree They dont care one iota about us We cant wait another two m',\n",
       " 'RT kartwonz Dead on arrival A cartoon by Rex A JonesTrump TrumpTantrum Elections2020 Trumplooser EveryVoteCounts BlackLivesMatte',\n",
       " 'RT kartwonz Dead on arrival A cartoon by Rex A JonesTrump TrumpTantrum Elections2020 Trumplooser EveryVoteCounts BlackLivesMatte',\n",
       " 'Donald J Trump is President of the United States He has been elected to a second term Joe Biden needs to concede',\n",
       " 'It should be clear to the American people TangerineToddler DonaldJTrump seems uninterested in doing his actual j',\n",
       " 'RT johnwhite2331 DonaldJTrump is a manby age only that has cheated on his wife his taxes and everything else notmypresident CNN Fo',\n",
       " 'CLady62 Rachel Maddow Is Back Tonight To Call Out DonaldJTrump amp MikePence LIES maddow MSNBC',\n",
       " 'DonaldJTrump is a manby age only that has cheated on his wife his taxes and everything else notmypresident CNN FoxNews',\n",
       " 'Yall see it PS5Share MarvelsSpiderManMilesMorales blm spiderman ps5 blacklivesmatter playstation',\n",
       " 'DonaldJTrump Do you realize how irrelevant you are right now No one is listening to your babbling lies anymore Just STOP']"
      ]
     },
     "execution_count": 30,
     "metadata": {},
     "output_type": "execute_result"
    }
   ],
   "source": [
    "tweets_no_urls"
   ]
  },
  {
   "cell_type": "code",
   "execution_count": null,
   "metadata": {},
   "outputs": [],
   "source": []
  }
 ],
 "metadata": {
  "kernelspec": {
   "display_name": "Python 3",
   "language": "python",
   "name": "python3"
  },
  "language_info": {
   "codemirror_mode": {
    "name": "ipython",
    "version": 3
   },
   "file_extension": ".py",
   "mimetype": "text/x-python",
   "name": "python",
   "nbconvert_exporter": "python",
   "pygments_lexer": "ipython3",
   "version": "3.8.5"
  }
 },
 "nbformat": 4,
 "nbformat_minor": 4
}
